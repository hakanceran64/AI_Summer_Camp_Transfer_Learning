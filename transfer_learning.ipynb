{
 "cells": [
  {
   "cell_type": "markdown",
   "metadata": {},
   "source": [
    "## Yapılacaklar\n",
    "\n",
    "Bu projede “Cats and Dogs” veri setini kullanarak Transfer Learning ile derin öğrenme modeli eğiteceğiz. Sizden iki farklı notebook dosyası beklenmektedir. Birinci dosyada, verinin önişleme kısmı yapılacak. İkinci dosyada, önceden eğitilmiş bir model, hazırlanan veriler ile tekrar eğitilerek yapay zekâ modeli oluşturulacak. Amacımız herhangi bir accuracy veya loss sonucuna ulaşmak değil; kullanılan yöntemleri öğrenmektir.\n",
    "\n",
    "Bu çalışma için Google Colab platformunu ve TensorFlow kütüphanesini kullanabilirsiniz.\n",
    "\n",
    "Google Colab: [https://colab.research.google.com](https://colab.research.google.com)\n",
    "\n",
    "TensorFlow Doküman: [https://www.tensorflow.org/api_docs/python/tf](https://www.tensorflow.org/api_docs/python/tf)\n",
    "\n",
    "## 1. Önişleme\n",
    "  - “Cats and Dogs” veri setini bilgisayarınıza indirin. (786.7MB) [https://www.microsoft.com/en-us/download/details.aspx?id=54765](https://www.microsoft.com/en-us/download/details.aspx?id=54765)\n",
    "  - Görüntüleri Colab ortamına yükleyin.\n",
    "  - Görüntüleri sırasıyla okuyarak, hepsini aynı boyuta getirin (resizing), normalizasyon yapın ve her bir görüntüyü etiketiyle birlikte, [görüntü, etiket] formatında bir listeye ekleyin.\n",
    "  - Oluşturduğunuz listeyi; X_train, y_train, X_val, y_val, X_test ve y_test listelerine bölün.\n",
    "  - Bu listeleri bilgisayarınıza kaydedin.\n",
    "\n",
    "## 2. Model Eğitimi\n",
    "  - Başka bir Colab dosyasında, bilgisayara kaydettiğiniz dosyaları tekrar yükleyin.\n",
    "  - TensorFlow dokümantasyonunu kullanarak Keras içerisinden bir model seçin ve bu modeli yükleyin.\n",
    "  - Modeli hazırlamış olduğunuz veriyle eğitin.\n",
    "  - Model performans metriklerini, loss ve accuracy grafiklerini ekrana yazdırın.\n",
    "\n",
    "---\n"
   ]
  },
  {
   "cell_type": "code",
   "execution_count": 2,
   "metadata": {},
   "outputs": [],
   "source": [
    "\n",
    "#kütüphanelerin yüklenmesi\n",
    "import os\n",
    "import cv2\n",
    "import random\n",
    "import warnings\n",
    "import numpy as np\n",
    "import pandas as pd\n",
    "import seaborn as sns\n",
    "from PIL import Image, ImageOps\n",
    "import matplotlib.pyplot as plt\n",
    "from sklearn.model_selection import train_test_split\n",
    "warnings.filterwarnings('ignore')\n"
   ]
  },
  {
   "cell_type": "code",
   "execution_count": 32,
   "metadata": {},
   "outputs": [],
   "source": [
    "cats_names = os.listdir(\"PetImages/Cat/\")\n",
    "dogs_names = os.listdir(\"PetImages/Dog/\")"
   ]
  },
  {
   "cell_type": "code",
   "execution_count": null,
   "metadata": {},
   "outputs": [],
   "source": [
    "cats_names = os.listdir(\"PetImages/Cat/\")\n",
    "dogs_names = os.listdir(\"PetImages/Dog/\")\n",
    "\n",
    "for f_name in cats_names:\n",
    "  try:\n",
    "    path = \"PetImages/Cat/\" + f_name\n",
    "    image = Image.open(path)\n",
    "    new_image = image.resize((128, 128))\n",
    "    new_path = \"new_resized/cats.\" + f_name\n",
    "    new_image.save(new_path)\n",
    "  except:\n",
    "    print(f_name)\n",
    "    continue"
   ]
  },
  {
   "cell_type": "code",
   "execution_count": 3,
   "metadata": {},
   "outputs": [],
   "source": [
    "# creaing a for loop to assign labels\n",
    "filenames = os.listdir(\"new_resized/\")\n",
    "\n",
    "labels = []\n",
    "input_path = []\n",
    "\n",
    "for i in range(len(filenames)):\n",
    "  input_path.append(\"new_resized/\" + filenames[i])\n",
    "  file_name = filenames[i]\n",
    "  label = file_name[0:4]\n",
    "\n",
    "  if label == 'dogs':\n",
    "    labels.append(0)\n",
    "  else:\n",
    "    labels.append(1)\n"
   ]
  },
  {
   "cell_type": "code",
   "execution_count": 108,
   "metadata": {},
   "outputs": [
    {
     "name": "stdout",
     "output_type": "stream",
     "text": [
      "[]\n",
      "[]\n"
     ]
    }
   ],
   "source": [
    "# Unique values\n",
    "values, counts = np.unique(labels, return_counts=True)\n",
    "print(values)\n",
    "print(counts)"
   ]
  },
  {
   "cell_type": "code",
   "execution_count": 4,
   "metadata": {},
   "outputs": [
    {
     "data": {
      "text/html": [
       "<div>\n",
       "<style scoped>\n",
       "    .dataframe tbody tr th:only-of-type {\n",
       "        vertical-align: middle;\n",
       "    }\n",
       "\n",
       "    .dataframe tbody tr th {\n",
       "        vertical-align: top;\n",
       "    }\n",
       "\n",
       "    .dataframe thead th {\n",
       "        text-align: right;\n",
       "    }\n",
       "</style>\n",
       "<table border=\"1\" class=\"dataframe\">\n",
       "  <thead>\n",
       "    <tr style=\"text-align: right;\">\n",
       "      <th></th>\n",
       "      <th>images</th>\n",
       "      <th>label</th>\n",
       "    </tr>\n",
       "  </thead>\n",
       "  <tbody>\n",
       "    <tr>\n",
       "      <th>0</th>\n",
       "      <td>new_resized/cats.11785.jpg</td>\n",
       "      <td>1</td>\n",
       "    </tr>\n",
       "    <tr>\n",
       "      <th>1</th>\n",
       "      <td>new_resized/dogs.12496.jpg</td>\n",
       "      <td>0</td>\n",
       "    </tr>\n",
       "    <tr>\n",
       "      <th>2</th>\n",
       "      <td>new_resized/cats.7818.jpg</td>\n",
       "      <td>1</td>\n",
       "    </tr>\n",
       "    <tr>\n",
       "      <th>3</th>\n",
       "      <td>new_resized/dogs.10091.jpg</td>\n",
       "      <td>0</td>\n",
       "    </tr>\n",
       "    <tr>\n",
       "      <th>4</th>\n",
       "      <td>new_resized/dogs.1436.jpg</td>\n",
       "      <td>0</td>\n",
       "    </tr>\n",
       "  </tbody>\n",
       "</table>\n",
       "</div>"
      ],
      "text/plain": [
       "                       images  label\n",
       "0  new_resized/cats.11785.jpg      1\n",
       "1  new_resized/dogs.12496.jpg      0\n",
       "2   new_resized/cats.7818.jpg      1\n",
       "3  new_resized/dogs.10091.jpg      0\n",
       "4   new_resized/dogs.1436.jpg      0"
      ]
     },
     "execution_count": 4,
     "metadata": {},
     "output_type": "execute_result"
    }
   ],
   "source": [
    "df = pd.DataFrame()\n",
    "df['images'] = input_path\n",
    "df['label'] = labels\n",
    "df = df.sample(frac=1).reset_index(drop=True)\n",
    "df.head()"
   ]
  },
  {
   "cell_type": "code",
   "execution_count": 116,
   "metadata": {},
   "outputs": [
    {
     "data": {
      "text/plain": [
       "<AxesSubplot:xlabel='label', ylabel='count'>"
      ]
     },
     "execution_count": 116,
     "metadata": {},
     "output_type": "execute_result"
    },
    {
     "data": {
      "image/png": "[encoded data removed]",
      "text/plain": [
       "<Figure size 432x288 with 1 Axes>"
      ]
     },
     "metadata": {
      "needs_background": "light"
     },
     "output_type": "display_data"
    }
   ],
   "source": [
    "sns.countplot(df['label'])"
   ]
  },
  {
   "cell_type": "code",
   "execution_count": 121,
   "metadata": {},
   "outputs": [
    {
     "data": {
      "text/html": [
       "<div>\n",
       "<style scoped>\n",
       "    .dataframe tbody tr th:only-of-type {\n",
       "        vertical-align: middle;\n",
       "    }\n",
       "\n",
       "    .dataframe tbody tr th {\n",
       "        vertical-align: top;\n",
       "    }\n",
       "\n",
       "    .dataframe thead th {\n",
       "        text-align: right;\n",
       "    }\n",
       "</style>\n",
       "<table border=\"1\" class=\"dataframe\">\n",
       "  <thead>\n",
       "    <tr style=\"text-align: right;\">\n",
       "      <th></th>\n",
       "      <th>images</th>\n",
       "      <th>label</th>\n",
       "    </tr>\n",
       "  </thead>\n",
       "  <tbody>\n",
       "    <tr>\n",
       "      <th>0</th>\n",
       "      <td>new_resized/dogs.2777.jpg</td>\n",
       "      <td>0</td>\n",
       "    </tr>\n",
       "    <tr>\n",
       "      <th>1</th>\n",
       "      <td>new_resized/dogs.12238.jpg</td>\n",
       "      <td>0</td>\n",
       "    </tr>\n",
       "    <tr>\n",
       "      <th>2</th>\n",
       "      <td>new_resized/dogs.7211.jpg</td>\n",
       "      <td>0</td>\n",
       "    </tr>\n",
       "    <tr>\n",
       "      <th>3</th>\n",
       "      <td>new_resized/dogs.8812.jpg</td>\n",
       "      <td>0</td>\n",
       "    </tr>\n",
       "    <tr>\n",
       "      <th>4</th>\n",
       "      <td>new_resized/dogs.5936.jpg</td>\n",
       "      <td>0</td>\n",
       "    </tr>\n",
       "    <tr>\n",
       "      <th>5</th>\n",
       "      <td>new_resized/dogs.8823.jpg</td>\n",
       "      <td>0</td>\n",
       "    </tr>\n",
       "    <tr>\n",
       "      <th>6</th>\n",
       "      <td>new_resized/cats.9525.jpg</td>\n",
       "      <td>1</td>\n",
       "    </tr>\n",
       "    <tr>\n",
       "      <th>7</th>\n",
       "      <td>new_resized/dogs.9234.jpg</td>\n",
       "      <td>0</td>\n",
       "    </tr>\n",
       "    <tr>\n",
       "      <th>8</th>\n",
       "      <td>new_resized/cats.6549.jpg</td>\n",
       "      <td>1</td>\n",
       "    </tr>\n",
       "    <tr>\n",
       "      <th>9</th>\n",
       "      <td>new_resized/cats.4883.jpg</td>\n",
       "      <td>1</td>\n",
       "    </tr>\n",
       "  </tbody>\n",
       "</table>\n",
       "</div>"
      ],
      "text/plain": [
       "                       images label\n",
       "0   new_resized/dogs.2777.jpg     0\n",
       "1  new_resized/dogs.12238.jpg     0\n",
       "2   new_resized/dogs.7211.jpg     0\n",
       "3   new_resized/dogs.8812.jpg     0\n",
       "4   new_resized/dogs.5936.jpg     0\n",
       "5   new_resized/dogs.8823.jpg     0\n",
       "6   new_resized/cats.9525.jpg     1\n",
       "7   new_resized/dogs.9234.jpg     0\n",
       "8   new_resized/cats.6549.jpg     1\n",
       "9   new_resized/cats.4883.jpg     1"
      ]
     },
     "execution_count": 121,
     "metadata": {},
     "output_type": "execute_result"
    }
   ],
   "source": [
    "df['label'] = df['label'].astype('str')\n",
    "df.head(10)"
   ]
  },
  {
   "cell_type": "code",
   "execution_count": 8,
   "metadata": {},
   "outputs": [],
   "source": [
    "# input split\n",
    "from sklearn.model_selection import train_test_split\n",
    "X_train, X_test, y_train, y_test = train_test_split(df[\"images\"], df[\"label\"], test_size=0.2, random_state=42)"
   ]
  },
  {
   "cell_type": "code",
   "execution_count": null,
   "metadata": {},
   "outputs": [],
   "source": [
    "from keras.preprocessing.image import ImageDataGenerator\n",
    "\n",
    "train_generator = ImageDataGenerator(\n",
    "    rescale = 1./255,  # normalization of images\n",
    "    rotation_range = 40, # augmention of images to avoid overfitting\n",
    "    shear_range = 0.2,\n",
    "    zoom_range = 0.2,\n",
    "    horizontal_flip = True,\n",
    "    fill_mode = 'nearest'\n",
    ")\n",
    "\n",
    "val_generator = ImageDataGenerator(rescale = 1./255)\n",
    "\n",
    "train_iterator = train_generator.flow_from_dataframe(\n",
    "    train,x_col='images',\n",
    "    y_col='label',\n",
    "    target_size=(128,128),\n",
    "    batch_size=512,\n",
    "    class_mode='binary'\n",
    ")\n",
    "\n",
    "val_iterator = val_generator.flow_from_dataframe(\n",
    "    test,x_col='images',\n",
    "    y_col='label',\n",
    "    target_size=(128,128),\n",
    "    batch_size=512,\n",
    "    class_mode='binary'\n",
    ")\n"
   ]
  },
  {
   "cell_type": "markdown",
   "metadata": {},
   "source": [
    "## X_train, y_train, X_val, y_val, X_test, y_test"
   ]
  }
 ],
 "metadata": {
  "kernelspec": {
   "display_name": "Python 3.8.8 ('base')",
   "language": "python",
   "name": "python3"
  },
  "language_info": {
   "codemirror_mode": {
    "name": "ipython",
    "version": 3
   },
   "file_extension": ".py",
   "mimetype": "text/x-python",
   "name": "python",
   "nbconvert_exporter": "python",
   "pygments_lexer": "ipython3",
   "version": "3.8.8"
  },
  "orig_nbformat": 4,
  "vscode": {
   "interpreter": {
    "hash": "ad2bdc8ecc057115af97d19610ffacc2b4e99fae6737bb82f5d7fb13d2f2c186"
   }
  }
 },
 "nbformat": 4,
 "nbformat_minor": 2
}
